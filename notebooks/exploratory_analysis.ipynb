{
 "cells": [
  {
   "cell_type": "code",
   "execution_count": null,
   "id": "857dd463",
   "metadata": {},
   "outputs": [
    {
     "data": {
      "text/html": [
       "<div>\n",
       "<style scoped>\n",
       "    .dataframe tbody tr th:only-of-type {\n",
       "        vertical-align: middle;\n",
       "    }\n",
       "\n",
       "    .dataframe tbody tr th {\n",
       "        vertical-align: top;\n",
       "    }\n",
       "\n",
       "    .dataframe thead th {\n",
       "        text-align: right;\n",
       "    }\n",
       "</style>\n",
       "<table border=\"1\" class=\"dataframe\">\n",
       "  <thead>\n",
       "    <tr style=\"text-align: right;\">\n",
       "      <th></th>\n",
       "      <th>title</th>\n",
       "      <th>author</th>\n",
       "      <th>description</th>\n",
       "      <th>publishedDate</th>\n",
       "      <th>categories</th>\n",
       "      <th>pageCount</th>\n",
       "      <th>averageRating</th>\n",
       "    </tr>\n",
       "  </thead>\n",
       "  <tbody>\n",
       "    <tr>\n",
       "      <th>0</th>\n",
       "      <td>Harry Potter and the Sorcerer's Stone</td>\n",
       "      <td>J.K. Rowling</td>\n",
       "      <td>Rescued from the outrageous neglect of his aun...</td>\n",
       "      <td>1997</td>\n",
       "      <td>[\"Children's stories\"]</td>\n",
       "      <td>309.0</td>\n",
       "      <td>5.0</td>\n",
       "    </tr>\n",
       "    <tr>\n",
       "      <th>1</th>\n",
       "      <td>Harry Potter and the Chamber of Secrets</td>\n",
       "      <td>J.K. Rowling</td>\n",
       "      <td>An Urdu language edition of the second Harry P...</td>\n",
       "      <td>2004</td>\n",
       "      <td>['Juvenile Fiction']</td>\n",
       "      <td>314.0</td>\n",
       "      <td>4.0</td>\n",
       "    </tr>\n",
       "    <tr>\n",
       "      <th>2</th>\n",
       "      <td>Harry Potter and the Prisoner of Azkaban</td>\n",
       "      <td>J.K. Rowling</td>\n",
       "      <td>'Welcome to the Knight Bus, emergency transpor...</td>\n",
       "      <td>2015-12-08</td>\n",
       "      <td>['Juvenile Fiction']</td>\n",
       "      <td>445.0</td>\n",
       "      <td>4.5</td>\n",
       "    </tr>\n",
       "    <tr>\n",
       "      <th>3</th>\n",
       "      <td>Harry Potter and the Goblet of Fire</td>\n",
       "      <td>J.K. Rowling</td>\n",
       "      <td>'There will be three tasks, spaced throughout ...</td>\n",
       "      <td>2015-12-08</td>\n",
       "      <td>['Juvenile Fiction']</td>\n",
       "      <td>750.0</td>\n",
       "      <td>4.5</td>\n",
       "    </tr>\n",
       "    <tr>\n",
       "      <th>4</th>\n",
       "      <td>Harry Potter and the Order of the Phoenix</td>\n",
       "      <td>J.K. Rowling</td>\n",
       "      <td>There is a door at the end of a silent corrido...</td>\n",
       "      <td>2023-05-02</td>\n",
       "      <td>['Juvenile Fiction']</td>\n",
       "      <td>0.0</td>\n",
       "      <td>0.0</td>\n",
       "    </tr>\n",
       "  </tbody>\n",
       "</table>\n",
       "</div>"
      ],
      "text/plain": [
       "                                       title        author  \\\n",
       "0      Harry Potter and the Sorcerer's Stone  J.K. Rowling   \n",
       "1    Harry Potter and the Chamber of Secrets  J.K. Rowling   \n",
       "2   Harry Potter and the Prisoner of Azkaban  J.K. Rowling   \n",
       "3        Harry Potter and the Goblet of Fire  J.K. Rowling   \n",
       "4  Harry Potter and the Order of the Phoenix  J.K. Rowling   \n",
       "\n",
       "                                         description publishedDate  \\\n",
       "0  Rescued from the outrageous neglect of his aun...          1997   \n",
       "1  An Urdu language edition of the second Harry P...          2004   \n",
       "2  'Welcome to the Knight Bus, emergency transpor...    2015-12-08   \n",
       "3  'There will be three tasks, spaced throughout ...    2015-12-08   \n",
       "4  There is a door at the end of a silent corrido...    2023-05-02   \n",
       "\n",
       "               categories  pageCount  averageRating  \n",
       "0  [\"Children's stories\"]      309.0            5.0  \n",
       "1    ['Juvenile Fiction']      314.0            4.0  \n",
       "2    ['Juvenile Fiction']      445.0            4.5  \n",
       "3    ['Juvenile Fiction']      750.0            4.5  \n",
       "4    ['Juvenile Fiction']        0.0            0.0  "
      ]
     },
     "execution_count": 1,
     "metadata": {},
     "output_type": "execute_result"
    }
   ],
   "source": [
    "# 1. Load libraries and the cleaned dataset\n",
    "import pandas as pd\n",
    "import matplotlib.pyplot as plt\n",
    "import seaborn as sns\n",
    "\n",
    "# Set nice default styles\n",
    "sns.set(style=\"whitegrid\")\n",
    "\n",
    "# Load the cleaned dataset\n",
    "books_df = pd.read_csv('../data/books_dataset_cleaned.csv')\n",
    "\n",
    "# Show first few rows\n",
    "books_df.head()"
   ]
  },
  {
   "cell_type": "code",
   "execution_count": 2,
   "id": "603fc240",
   "metadata": {},
   "outputs": [
    {
     "name": "stdout",
     "output_type": "stream",
     "text": [
      "<class 'pandas.core.frame.DataFrame'>\n",
      "RangeIndex: 100 entries, 0 to 99\n",
      "Data columns (total 7 columns):\n",
      " #   Column         Non-Null Count  Dtype  \n",
      "---  ------         --------------  -----  \n",
      " 0   title          100 non-null    object \n",
      " 1   author         100 non-null    object \n",
      " 2   description    100 non-null    object \n",
      " 3   publishedDate  100 non-null    object \n",
      " 4   categories     97 non-null     object \n",
      " 5   pageCount      100 non-null    float64\n",
      " 6   averageRating  100 non-null    float64\n",
      "dtypes: float64(2), object(5)\n",
      "memory usage: 5.6+ KB\n"
     ]
    },
    {
     "data": {
      "text/html": [
       "<div>\n",
       "<style scoped>\n",
       "    .dataframe tbody tr th:only-of-type {\n",
       "        vertical-align: middle;\n",
       "    }\n",
       "\n",
       "    .dataframe tbody tr th {\n",
       "        vertical-align: top;\n",
       "    }\n",
       "\n",
       "    .dataframe thead th {\n",
       "        text-align: right;\n",
       "    }\n",
       "</style>\n",
       "<table border=\"1\" class=\"dataframe\">\n",
       "  <thead>\n",
       "    <tr style=\"text-align: right;\">\n",
       "      <th></th>\n",
       "      <th>pageCount</th>\n",
       "      <th>averageRating</th>\n",
       "    </tr>\n",
       "  </thead>\n",
       "  <tbody>\n",
       "    <tr>\n",
       "      <th>count</th>\n",
       "      <td>100.00000</td>\n",
       "      <td>100.000000</td>\n",
       "    </tr>\n",
       "    <tr>\n",
       "      <th>mean</th>\n",
       "      <td>410.75000</td>\n",
       "      <td>2.200000</td>\n",
       "    </tr>\n",
       "    <tr>\n",
       "      <th>std</th>\n",
       "      <td>318.57192</td>\n",
       "      <td>2.254065</td>\n",
       "    </tr>\n",
       "    <tr>\n",
       "      <th>min</th>\n",
       "      <td>0.00000</td>\n",
       "      <td>0.000000</td>\n",
       "    </tr>\n",
       "    <tr>\n",
       "      <th>25%</th>\n",
       "      <td>270.00000</td>\n",
       "      <td>0.000000</td>\n",
       "    </tr>\n",
       "    <tr>\n",
       "      <th>50%</th>\n",
       "      <td>385.00000</td>\n",
       "      <td>1.000000</td>\n",
       "    </tr>\n",
       "    <tr>\n",
       "      <th>75%</th>\n",
       "      <td>508.00000</td>\n",
       "      <td>4.500000</td>\n",
       "    </tr>\n",
       "    <tr>\n",
       "      <th>max</th>\n",
       "      <td>2275.00000</td>\n",
       "      <td>5.000000</td>\n",
       "    </tr>\n",
       "  </tbody>\n",
       "</table>\n",
       "</div>"
      ],
      "text/plain": [
       "        pageCount  averageRating\n",
       "count   100.00000     100.000000\n",
       "mean    410.75000       2.200000\n",
       "std     318.57192       2.254065\n",
       "min       0.00000       0.000000\n",
       "25%     270.00000       0.000000\n",
       "50%     385.00000       1.000000\n",
       "75%     508.00000       4.500000\n",
       "max    2275.00000       5.000000"
      ]
     },
     "execution_count": 2,
     "metadata": {},
     "output_type": "execute_result"
    }
   ],
   "source": [
    "# 2. Basic overview\n",
    "books_df.info()\n",
    "books_df.describe()\n"
   ]
  },
  {
   "cell_type": "code",
   "execution_count": 3,
   "id": "b79020cf",
   "metadata": {},
   "outputs": [
    {
     "name": "stdout",
     "output_type": "stream",
     "text": [
      "title            0\n",
      "author           0\n",
      "description      0\n",
      "publishedDate    0\n",
      "categories       3\n",
      "pageCount        0\n",
      "averageRating    0\n",
      "dtype: int64\n"
     ]
    }
   ],
   "source": [
    "# 3. Check for missing values\n",
    "missing_values = books_df.isnull().sum()\n",
    "print(missing_values)"
   ]
  },
  {
   "cell_type": "code",
   "execution_count": 4,
   "id": "3048508b",
   "metadata": {},
   "outputs": [
    {
     "data": {
      "image/png": "[encoded data removed]",
      "text/plain": [
       "<Figure size 800x500 with 1 Axes>"
      ]
     },
     "metadata": {},
     "output_type": "display_data"
    }
   ],
   "source": [
    "# 4. Histogram of average ratings\n",
    "plt.figure(figsize=(8,5))\n",
    "plt.hist(books_df['averageRating'], bins=20, edgecolor='black')\n",
    "plt.title('Distribution of Average Ratings')\n",
    "plt.xlabel('Average Rating')\n",
    "plt.ylabel('Number of Books')\n",
    "plt.show()\n"
   ]
  },
  {
   "cell_type": "code",
   "execution_count": 5,
   "id": "83921cb2",
   "metadata": {},
   "outputs": [
    {
     "data": {
      "image/png": "[encoded data removed]",
      "text/plain": [
       "<Figure size 800x500 with 1 Axes>"
      ]
     },
     "metadata": {},
     "output_type": "display_data"
    }
   ],
   "source": [
    "# 5. Histogram of page counts\n",
    "plt.figure(figsize=(8,5))\n",
    "plt.hist(books_df['pageCount'], bins=20, edgecolor='black')\n",
    "plt.title('Distribution of Page Counts')\n",
    "plt.xlabel('Number of Pages')\n",
    "plt.ylabel('Number of Books')\n",
    "plt.xlim(0, 1500)  # Limit x-axis to ignore crazy outliers\n",
    "plt.show()\n"
   ]
  }
 ],
 "metadata": {
  "kernelspec": {
   "display_name": ".venv",
   "language": "python",
   "name": "python3"
  },
  "language_info": {
   "codemirror_mode": {
    "name": "ipython",
    "version": 3
   },
   "file_extension": ".py",
   "mimetype": "text/x-python",
   "name": "python",
   "nbconvert_exporter": "python",
   "pygments_lexer": "ipython3",
   "version": "3.11.5"
  }
 },
 "nbformat": 4,
 "nbformat_minor": 5
}
